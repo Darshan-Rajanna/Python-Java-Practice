{
 "cells": [
  {
   "cell_type": "code",
   "execution_count": 21,
   "metadata": {},
   "outputs": [
    {
     "name": "stdout",
     "output_type": "stream",
     "text": [
      "10\n",
      "50\n"
     ]
    },
    {
     "data": {
      "text/plain": [
       "0"
      ]
     },
     "execution_count": 21,
     "metadata": {},
     "output_type": "execute_result"
    }
   ],
   "source": [
    "a={'I':1,'V':5,'X':10,'L':50,'C':100,'D':500,'M':1000}\n",
    "\n",
    "x=\"XL\"\n",
    "sum=0\n",
    "for i in range(len(x)):\n",
    "    print(a[x[i]])\n",
    "sum\n"
   ]
  },
  {
   "cell_type": "code",
   "execution_count": 32,
   "metadata": {},
   "outputs": [
    {
     "name": "stdout",
     "output_type": "stream",
     "text": [
      "I\n"
     ]
    }
   ],
   "source": [
    "string=\"Hai I am a student I am learning python\"\n",
    "wrds=string.split()\n",
    "    \n",
    "dict1={}\n",
    "for i in range(len(wrds)):\n",
    "    count=0\n",
    "    if(wrds[i] in wrds[i:]):\n",
    "        count+=1\n",
    "        if wrds[i] in dict1:\n",
    "            dict1[wrds[i]]=dict1[wrds[i]]+count\n",
    "        else:\n",
    "            dict1[wrds[i]]=count\n",
    "#Print the hight count word\n",
    "print(max(dict1,key=dict1.get))"
   ]
  },
  {
   "cell_type": "code",
   "execution_count": 33,
   "metadata": {},
   "outputs": [
    {
     "data": {
      "text/plain": [
       "15"
      ]
     },
     "execution_count": 33,
     "metadata": {},
     "output_type": "execute_result"
    }
   ],
   "source": [
    "\n",
    "sum=0\n",
    "if M==1:\n",
    "    for i in range(n):\n",
    "        sum+=A[i]\n",
    "sum"
   ]
  },
  {
   "cell_type": "code",
   "execution_count": 35,
   "metadata": {},
   "outputs": [
    {
     "data": {
      "text/plain": [
       "70"
      ]
     },
     "execution_count": 35,
     "metadata": {},
     "output_type": "execute_result"
    }
   ],
   "source": [
    "# n=5\n",
    "# A=[1,2,3,4,5]\n",
    "# M=1\n",
    "\n",
    "n=5\n",
    "A=[1,10,2,4,60]\n",
    "M=2\n",
    "\n",
    "sum=0\n",
    "if M==1:\n",
    "    for i in range(n):\n",
    "        sum+=A[i]\n",
    "elif M==2:\n",
    "    for i in range(n):\n",
    "        if(A[i]>9):\n",
    "            sum+=A[i]\n",
    "        \n",
    "sum"
   ]
  },
  {
   "cell_type": "code",
   "execution_count": 37,
   "metadata": {},
   "outputs": [
    {
     "name": "stdout",
     "output_type": "stream",
     "text": [
      "Sum: 70\n"
     ]
    }
   ],
   "source": [
    "# Inputs\n",
    "n = 5\n",
    "A = [1, 10, 2, 4, 60]\n",
    "M = 2\n",
    "\n",
    "\n",
    "sum = 0\n",
    "\n",
    "for num in A:\n",
    "    if len(str(abs(num))) == M:\n",
    "        sum += num\n",
    "\n",
    "\n",
    "print(\"Sum:\", sum)\n"
   ]
  },
  {
   "cell_type": "markdown",
   "metadata": {},
   "source": [
    "# common prefix"
   ]
  },
  {
   "cell_type": "code",
   "execution_count": null,
   "metadata": {},
   "outputs": [],
   "source": [
    "list=[\"Flower\",'Floor',\"Flooring\",\"Flour\",\"Flourish\"]"
   ]
  },
  {
   "cell_type": "code",
   "execution_count": 103,
   "metadata": {},
   "outputs": [
    {
     "name": "stdout",
     "output_type": "stream",
     "text": [
      "Flo\n"
     ]
    }
   ],
   "source": [
    "\n",
    "strs=[\"Flower\",'Floor',\"Flooring\",\"Flour\",\"Flourish\"]\n",
    "\n",
    "minimun=min(strs[0:])\n",
    "\n",
    "letters=[]\n",
    "for i in range(len(minimun)):\n",
    "    letters.append(minimun[i])\n",
    "\n",
    "\n",
    "prefix=\"\"\n",
    "for i in range(len(strs)):\n",
    "    for j in range(len(letters)):\n",
    "        if strs[i][j]!=letters[j]:\n",
    "            letters[j]=' '\n",
    "            break\n",
    "    \n",
    "    if letters[i]!=' ':\n",
    "        prefix+=letters[i]\n",
    "    else:\n",
    "        break\n",
    "\n",
    "print(prefix)\n"
   ]
  },
  {
   "cell_type": "code",
   "execution_count": 119,
   "metadata": {},
   "outputs": [
    {
     "data": {
      "text/plain": [
       "'a'"
      ]
     },
     "execution_count": 119,
     "metadata": {},
     "output_type": "execute_result"
    }
   ],
   "source": [
    "class Solution(object):\n",
    "    def longestCommonPrefix(self, strs):\n",
    "        minimun=min(strs[0:])\n",
    "        if len(minimun)==0:\n",
    "            return \"\"\n",
    "        else:\n",
    "            letters=[]\n",
    "            for i in range(len(minimun)):\n",
    "                letters.append(minimun[i])\n",
    "\n",
    "\n",
    "            prefix=\"\"\n",
    "            for i in range(len(strs)):\n",
    "                for j in range(len(letters)):\n",
    "                    if strs[i][j]!=letters[j]:\n",
    "                        letters[j]=' '\n",
    "                        break\n",
    "                \n",
    "            for i in range(len(letters)):\n",
    "                if letters[i]!=' ':\n",
    "                    prefix+=letters[i]\n",
    "                else:\n",
    "                    break  \n",
    "        return prefix\n",
    "    \n",
    "\n",
    "b=Solution()\n",
    "b.longestCommonPrefix([\"ab\", \"a\"])\n",
    "        "
   ]
  },
  {
   "cell_type": "code",
   "execution_count": 120,
   "metadata": {},
   "outputs": [
    {
     "data": {
      "text/plain": [
       "'a'"
      ]
     },
     "execution_count": 120,
     "metadata": {},
     "output_type": "execute_result"
    }
   ],
   "source": [
    "class Solution(object):\n",
    "    def longestCommonPrefix(self, strs):\n",
    "         if not strs:\n",
    "            return \"\"\n",
    "         prefix = strs[0]\n",
    "         for string in strs[1:]:\n",
    "             while string.find(prefix) != 0:\n",
    "                prefix = prefix[:-1]\n",
    "                if not prefix:\n",
    "                    return \"\"\n",
    "         return prefix\n",
    "    \n",
    "b=Solution()\n",
    "b.longestCommonPrefix([\"ab\", \"a\"])"
   ]
  },
  {
   "cell_type": "code",
   "execution_count": 81,
   "metadata": {},
   "outputs": [
    {
     "data": {
      "text/plain": [
       "'Flo'"
      ]
     },
     "execution_count": 81,
     "metadata": {},
     "output_type": "execute_result"
    }
   ],
   "source": [
    "prefix = list1[0]\n",
    "\n",
    "for word in list1[1:]:\n",
    "    # Reduce the prefix until it matches the beginning of 'word'\n",
    "    while not word.startswith(prefix):\n",
    "        prefix = prefix[:-1]\n",
    "        if not prefix:\n",
    "             prefix = \"\"\n",
    "\n",
    "prefix"
   ]
  }
 ],
 "metadata": {
  "kernelspec": {
   "display_name": "Python 3",
   "language": "python",
   "name": "python3"
  },
  "language_info": {
   "codemirror_mode": {
    "name": "ipython",
    "version": 3
   },
   "file_extension": ".py",
   "mimetype": "text/x-python",
   "name": "python",
   "nbconvert_exporter": "python",
   "pygments_lexer": "ipython3",
   "version": "3.12.4"
  }
 },
 "nbformat": 4,
 "nbformat_minor": 2
}
